{
 "cells": [
  {
   "cell_type": "code",
   "execution_count": 1,
   "metadata": {},
   "outputs": [],
   "source": [
    "import pandas as pd\n",
    "import numpy as np"
   ]
  },
  {
   "cell_type": "markdown",
   "metadata": {},
   "source": [
    "You are running a bioreactor in batch mode with a working volume of 50 L. You are growing induced pluripotent stem cells (iPSCs) for islet differentiation. As the operator, it is your duty to generate enough cells to innoculate a 500 L bioreactor. Before starting the run, you want to make sure you have enough reagents. You use previous data for your cell line to simulate your bioreactor run using Monod kinetics. Luckily, the R&D team has done extensive research on the glucose consumption, L-glutamine consumption, lacate producton, and ammonia production of your iPSCs to give you everything you need for your simulation."
   ]
  },
  {
   "cell_type": "markdown",
   "metadata": {},
   "source": [
    "Kinetics: "
   ]
  },
  {
   "cell_type": "markdown",
   "metadata": {},
   "source": [
    "Cell growth"
   ]
  },
  {
   "cell_type": "code",
   "execution_count": 2,
   "metadata": {},
   "outputs": [],
   "source": [
    "def Mu(mu_max, c_Glc, c_Gln, K_sGlc, K_sGln):\n",
    "    return mu_max * (c_Glc / (c_Glc + K_sGlc)) * (c_Gln / (c_Gln + K_sGln))"
   ]
  },
  {
   "cell_type": "markdown",
   "metadata": {},
   "source": [
    "Cell death"
   ]
  },
  {
   "cell_type": "code",
   "execution_count": 3,
   "metadata": {},
   "outputs": [],
   "source": [
    "def Mu_d(mu_d_min, mu_d_max, K_sGlc, c_Glc):\n",
    "    return mu_d_min + mu_d_max * K_sGlc/(K_sGlc + c_Glc)"
   ]
  },
  {
   "cell_type": "markdown",
   "metadata": {},
   "source": [
    "Glucose consumption"
   ]
  },
  {
   "cell_type": "code",
   "execution_count": 4,
   "metadata": {},
   "outputs": [],
   "source": [
    "def q_Glc(mu_max, c_Glc, c_Gln, K_sGlc, K_sGln, k_Glc):\n",
    "    mu = Mu(mu_max, c_Glc, c_Gln, K_sGlc, K_sGln)\n",
    "    return q_Glc_max * c_Glc * ((mu / (mu + mu_max)) + 0.5) / (c_Glc + k_Glc)"
   ]
  },
  {
   "cell_type": "markdown",
   "metadata": {},
   "source": [
    "L-glutamine consumption"
   ]
  },
  {
   "cell_type": "code",
   "execution_count": 5,
   "metadata": {},
   "outputs": [],
   "source": [
    "def q_Gln(c_Gln, c_Glc, q_Gln_max, k_Gln, a, c_Glc_thr):\n",
    "    if c_Glc > c_Glc_thr:\n",
    "        Kp_Gln = 1\n",
    "    else:\n",
    "        Kp_Gln = 1 + a * (c_Glc_thr - c_Glc)\n",
    "    return Kp_Gln * q_Gln_max * c_Gln / (c_Gln + k_Gln)"
   ]
  },
  {
   "cell_type": "markdown",
   "metadata": {},
   "source": [
    "Lactate production"
   ]
  },
  {
   "cell_type": "code",
   "execution_count": 6,
   "metadata": {},
   "outputs": [],
   "source": [
    "def q_Lac(Y_lacglc, Q_Glc, mu, mu_max, q_Lac_uptake_max):\n",
    "    Q_Lac = Y_lacglc * Q_Glc - q_Lac_uptake_max * (mu_max - mu) / mu_max\n",
    "    return Y_lacglc * Q_Glc - q_Lac_uptake_max * (mu_max - mu) / mu_max"
   ]
  },
  {
   "cell_type": "markdown",
   "metadata": {},
   "source": [
    "Ammonia production"
   ]
  },
  {
   "cell_type": "code",
   "execution_count": 7,
   "metadata": {},
   "outputs": [],
   "source": [
    "def q_Amm(Y_ammgln, Q_Gln):\n",
    "    return Y_ammgln * Q_Gln"
   ]
  },
  {
   "cell_type": "markdown",
   "metadata": {},
   "source": [
    "Kinetic constants:"
   ]
  },
  {
   "cell_type": "code",
   "execution_count": 8,
   "metadata": {},
   "outputs": [],
   "source": [
    "mu_d_min = 0.0017 #h-1\n",
    "mu_d_max = 0.0360 #h-1\n",
    "mu_max = 0.0460 # h-1\n",
    "k_Glc = 1.8501 #mmol/L\n",
    "k_Gln = 3.7363 #mmol/L\n",
    "K_sGlc = 0.03 #mmol/L\n",
    "K_sGln = 0.03 #mmol/L\n",
    "q_Glc_max = 0.0726E-9 # mmol/cell/h\n",
    "q_Gln_max = 0.0770E-9 # mmol/cell/h\n",
    "Y_ammgln = 0.6562\n",
    "Y_lacglc = 0.4707\n",
    "q_Lac_max = 0.0442E-9 #mmol/cell/h\n",
    "K_lys = 0.0010"
   ]
  },
  {
   "cell_type": "markdown",
   "metadata": {},
   "source": [
    "You know the initial concentrations by taking a measurment at t=0 and have recorded the findings."
   ]
  },
  {
   "cell_type": "code",
   "execution_count": 9,
   "metadata": {},
   "outputs": [],
   "source": [
    "c_Glc_0 = 44.4 #mmol/L\n",
    "c_Gln_0 = 4 #mmol/L\n",
    "Xv_0 = 2E7 #cells/L\n",
    "c_Lac_0 = 0 #mmol/L\n",
    "c_Amm_0 = 0 #mmol/L"
   ]
  },
  {
   "cell_type": "markdown",
   "metadata": {},
   "source": [
    "You must now run your simulation. You have a set of ordinary differential equations (ODEs) that you need to solve in series; therefore, you must use an ODE solver."
   ]
  },
  {
   "cell_type": "code",
   "execution_count": 2,
   "metadata": {},
   "outputs": [],
   "source": [
    "from scipy.integrate import odeint\n",
    "from scipy import interpolate"
   ]
  },
  {
   "cell_type": "code",
   "execution_count": 11,
   "metadata": {},
   "outputs": [],
   "source": [
    "def odes(x, t):\n",
    "    \n",
    "    # kinetic constants\n",
    "    mu_d_min = 0.0017 #h-1\n",
    "    mu_d_max = 0.0360 #h-1\n",
    "    mu_max = 0.0460 # h-1\n",
    "    k_Glc = 1.8501 #mmol/L\n",
    "    k_Gln = 3.7363 #mmol/L\n",
    "    K_sGlc = 0.03 #mmol/L\n",
    "    K_sGln = 0.03 #mmol/L\n",
    "    q_Glc_max = 0.0726E-9 # mmol/cell/h\n",
    "    q_Gln_max = 0.0770E-9 # mmol/cell/h\n",
    "    Y_ammgln = 0.6562\n",
    "    Y_lacglc = 0.4707\n",
    "    q_Lac_uptake_max = 0.0442E-9 #mmol/cell/h\n",
    "    K_lys = 0.001 #h-1\n",
    "    a = 6\n",
    "    c_Glc_thr = 0.5\n",
    "    q_mab = 0.5E-15 #kg/cell/hr\n",
    "    \n",
    "    # assign each ode to a vector element\n",
    "    Xv = x[0]\n",
    "    c_Glc = x[1]\n",
    "    c_Gln = x[2]\n",
    "    c_Lac = x[3]\n",
    "    c_Amm = x[4]\n",
    "    \n",
    "    # non ode equations\n",
    "    mu = Mu(mu_max, c_Glc, c_Gln, K_sGlc, K_sGln)\n",
    "    mu_d = Mu_d(mu_d_min, mu_d_max, K_sGlc, c_Glc)\n",
    "    qglc = q_Glc(mu_max, c_Glc, c_Gln, K_sGlc, K_sGln, k_Glc)\n",
    "    qgln = q_Gln(c_Gln, c_Glc, q_Gln_max, k_Gln, a, c_Glc_thr)\n",
    "    qlac = q_Lac(Y_lacglc, qglc, mu, mu_max, q_Lac_uptake_max)\n",
    "    qamm = q_Amm(Y_ammgln, qgln)\n",
    "    \n",
    "    # mass balances\n",
    "    dXv_dt = (mu - mu_d) * Xv\n",
    "    dc_Glc_dt = - qglc * Xv\n",
    "    dc_Gln_dt = - qgln * Xv\n",
    "    dc_Lac_dt = + qlac * Xv\n",
    "    dc_Amm_dt = + qamm * Xv\n",
    "    \n",
    "    return dXv_dt, dc_Glc_dt, dc_Gln_dt, dc_Lac_dt, dc_Amm_dt"
   ]
  },
  {
   "cell_type": "markdown",
   "metadata": {},
   "source": [
    "Define time and array of initial conditions to integrate over"
   ]
  },
  {
   "cell_type": "code",
   "execution_count": 12,
   "metadata": {},
   "outputs": [],
   "source": [
    "t = np.linspace(0, 200, 1000)"
   ]
  },
  {
   "cell_type": "code",
   "execution_count": 13,
   "metadata": {},
   "outputs": [],
   "source": [
    "x0 = [Xv_0, c_Glc_0, c_Gln_0, c_Lac_0, c_Amm_0]"
   ]
  },
  {
   "cell_type": "markdown",
   "metadata": {},
   "source": [
    "Run simulation"
   ]
  },
  {
   "cell_type": "code",
   "execution_count": 1,
   "metadata": {},
   "outputs": [
    {
     "ename": "NameError",
     "evalue": "name 'odeint' is not defined",
     "output_type": "error",
     "traceback": [
      "\u001b[1;31m---------------------------------------------------------------------------\u001b[0m",
      "\u001b[1;31mNameError\u001b[0m                                 Traceback (most recent call last)",
      "Cell \u001b[1;32mIn[1], line 1\u001b[0m\n\u001b[1;32m----> 1\u001b[0m x \u001b[38;5;241m=\u001b[39m \u001b[43modeint\u001b[49m(odes, x0, t)\n",
      "\u001b[1;31mNameError\u001b[0m: name 'odeint' is not defined"
     ]
    }
   ],
   "source": [
    "x = odeint(odes, x0, t)"
   ]
  },
  {
   "cell_type": "markdown",
   "metadata": {},
   "source": [
    "To make it easier, each vector has been assigned a name"
   ]
  },
  {
   "cell_type": "code",
   "execution_count": 15,
   "metadata": {},
   "outputs": [],
   "source": [
    "Xv = x[:,0]\n",
    "glc = x[:,1]\n",
    "gln = x[:,2]\n",
    "lac = x[:,3]\n",
    "amm = x[:,4]"
   ]
  },
  {
   "cell_type": "markdown",
   "metadata": {},
   "source": [
    "Now we will plot our results"
   ]
  },
  {
   "cell_type": "code",
   "execution_count": 16,
   "metadata": {},
   "outputs": [],
   "source": [
    "import matplotlib.pyplot as plt"
   ]
  },
  {
   "cell_type": "markdown",
   "metadata": {},
   "source": [
    "The following is a basic plot of viable cell density (cells/L) versus time"
   ]
  },
  {
   "cell_type": "code",
   "execution_count": 17,
   "metadata": {},
   "outputs": [
    {
     "data": {
      "text/plain": [
       "Text(0, 0.5, 'Viable cell density (cells/L)')"
      ]
     },
     "execution_count": 17,
     "metadata": {},
     "output_type": "execute_result"
    },
    {
     "data": {
      "image/png": "[encoded data removed]",
      "text/plain": [
       "<Figure size 432x288 with 1 Axes>"
      ]
     },
     "metadata": {
      "needs_background": "light"
     },
     "output_type": "display_data"
    }
   ],
   "source": [
    "plt.plot(t,Xv)\n",
    "plt.xlabel('Time (hours)')\n",
    "plt.ylabel('Viable cell density (cells/L)')"
   ]
  },
  {
   "cell_type": "markdown",
   "metadata": {},
   "source": [
    "How does the graph change with a log plot? Please show in the box below."
   ]
  },
  {
   "cell_type": "code",
   "execution_count": null,
   "metadata": {},
   "outputs": [],
   "source": []
  },
  {
   "cell_type": "markdown",
   "metadata": {},
   "source": [
    "What is the growth rate and doubling time of your cells from this simulated data?"
   ]
  },
  {
   "cell_type": "code",
   "execution_count": null,
   "metadata": {},
   "outputs": [],
   "source": []
  },
  {
   "cell_type": "markdown",
   "metadata": {},
   "source": [
    "In the boxes below, make plots of the glucose (glc), l-glutamine (gln), lactate (lac), and ammonia (amm) concentrations with time. Make your plots as simple or as creative as you like. A guide on how to design graphs in python can be found here:"
   ]
  },
  {
   "cell_type": "code",
   "execution_count": null,
   "metadata": {},
   "outputs": [],
   "source": []
  },
  {
   "cell_type": "code",
   "execution_count": null,
   "metadata": {},
   "outputs": [],
   "source": []
  },
  {
   "cell_type": "code",
   "execution_count": null,
   "metadata": {},
   "outputs": [],
   "source": []
  },
  {
   "cell_type": "code",
   "execution_count": null,
   "metadata": {},
   "outputs": [],
   "source": []
  },
  {
   "cell_type": "markdown",
   "metadata": {},
   "source": [
    "Now its time to utilize your data. If you wish to innocuate your 500 L bioreactor with the same initial cell density (20,000 cells/ml), after how many days do you have enough cells?"
   ]
  },
  {
   "cell_type": "code",
   "execution_count": null,
   "metadata": {},
   "outputs": [],
   "source": []
  },
  {
   "cell_type": "markdown",
   "metadata": {},
   "source": [
    "After running your simulation, you verify that you have enough reagents to complete the run and have an estimated timeline for how long the reactor needs to run. You innoculate the reactor at 9 am at your initial cell density of 20,000 cells/mL. You take a daily cell count at 9 am for the next 6 days. You obtain the following data after running the reactor:"
   ]
  },
  {
   "cell_type": "code",
   "execution_count": 18,
   "metadata": {},
   "outputs": [
    {
     "data": {
      "text/html": [
       "<div>\n",
       "<style scoped>\n",
       "    .dataframe tbody tr th:only-of-type {\n",
       "        vertical-align: middle;\n",
       "    }\n",
       "\n",
       "    .dataframe tbody tr th {\n",
       "        vertical-align: top;\n",
       "    }\n",
       "\n",
       "    .dataframe thead th {\n",
       "        text-align: right;\n",
       "    }\n",
       "</style>\n",
       "<table border=\"1\" class=\"dataframe\">\n",
       "  <thead>\n",
       "    <tr style=\"text-align: right;\">\n",
       "      <th></th>\n",
       "      <th>time (days)</th>\n",
       "      <th>cell density (cells/L)</th>\n",
       "    </tr>\n",
       "  </thead>\n",
       "  <tbody>\n",
       "    <tr>\n",
       "      <th>0</th>\n",
       "      <td>0</td>\n",
       "      <td>2.000000e+07</td>\n",
       "    </tr>\n",
       "    <tr>\n",
       "      <th>1</th>\n",
       "      <td>1</td>\n",
       "      <td>2.340000e+07</td>\n",
       "    </tr>\n",
       "    <tr>\n",
       "      <th>2</th>\n",
       "      <td>2</td>\n",
       "      <td>1.063400e+08</td>\n",
       "    </tr>\n",
       "    <tr>\n",
       "      <th>3</th>\n",
       "      <td>3</td>\n",
       "      <td>2.154700e+08</td>\n",
       "    </tr>\n",
       "    <tr>\n",
       "      <th>4</th>\n",
       "      <td>4</td>\n",
       "      <td>4.699870e+08</td>\n",
       "    </tr>\n",
       "    <tr>\n",
       "      <th>5</th>\n",
       "      <td>5</td>\n",
       "      <td>2.679700e+09</td>\n",
       "    </tr>\n",
       "    <tr>\n",
       "      <th>6</th>\n",
       "      <td>6</td>\n",
       "      <td>5.878760e+09</td>\n",
       "    </tr>\n",
       "    <tr>\n",
       "      <th>7</th>\n",
       "      <td>7</td>\n",
       "      <td>1.268360e+10</td>\n",
       "    </tr>\n",
       "    <tr>\n",
       "      <th>8</th>\n",
       "      <td>8</td>\n",
       "      <td>1.152000e+10</td>\n",
       "    </tr>\n",
       "  </tbody>\n",
       "</table>\n",
       "</div>"
      ],
      "text/plain": [
       "   time (days)  cell density (cells/L)\n",
       "0            0            2.000000e+07\n",
       "1            1            2.340000e+07\n",
       "2            2            1.063400e+08\n",
       "3            3            2.154700e+08\n",
       "4            4            4.699870e+08\n",
       "5            5            2.679700e+09\n",
       "6            6            5.878760e+09\n",
       "7            7            1.268360e+10\n",
       "8            8            1.152000e+10"
      ]
     },
     "execution_count": 18,
     "metadata": {},
     "output_type": "execute_result"
    }
   ],
   "source": [
    "d = {'time (days)': [0,1,2,3,4,5,6,7,8], \n",
    "     'cell density (cells/L)': [2E7, 2.34E7, 10.634E7, 21.547E7, 46.9987E7, 267.97E7, 587.876E7, 1268.36E7, 1152E7]}\n",
    "lab_data = pd.DataFrame(data=d)\n",
    "lab_data"
   ]
  },
  {
   "cell_type": "markdown",
   "metadata": {},
   "source": [
    "Please plot the viable cell density from your data ('lab_data') with time."
   ]
  },
  {
   "cell_type": "code",
   "execution_count": null,
   "metadata": {},
   "outputs": [],
   "source": []
  },
  {
   "cell_type": "markdown",
   "metadata": {},
   "source": [
    "What is the doubling time and growth rate of your cells from your lab data?"
   ]
  },
  {
   "cell_type": "code",
   "execution_count": null,
   "metadata": {},
   "outputs": [],
   "source": []
  },
  {
   "cell_type": "markdown",
   "metadata": {},
   "source": [
    "Overlay the simulated viable cell density and the measured cell density. Calculate the difference between these two curves and give a statistical measure of the difference."
   ]
  },
  {
   "cell_type": "code",
   "execution_count": null,
   "metadata": {},
   "outputs": [],
   "source": []
  },
  {
   "cell_type": "code",
   "execution_count": null,
   "metadata": {},
   "outputs": [],
   "source": []
  },
  {
   "cell_type": "markdown",
   "metadata": {},
   "source": [
    "Your supervisor asks you if we can innoculate a 1000 L reactor instead of a 500 L reactor. You realize that with your current bioreactor kinetics, you do not produce enough cells to innoculate this large of a reactor. You then decide to use a fed-batch reactor with a flowrate of 15L/day to try and achieve a higher viable cell density. How would you change the mass balances in the function 'odes' to run a fed-batch reactor simulation? Please do so, and rerun the simulation. "
   ]
  },
  {
   "cell_type": "markdown",
   "metadata": {},
   "source": [
    "Helpful tip:\n",
    "\n",
    "You need to account for the volume change of the bioreactor with time. Take a look at the mass balances in the power point for more help."
   ]
  },
  {
   "cell_type": "markdown",
   "metadata": {},
   "source": [
    "Do not change any of the above code. Just rerun the simulation below."
   ]
  },
  {
   "cell_type": "code",
   "execution_count": null,
   "metadata": {},
   "outputs": [],
   "source": []
  },
  {
   "cell_type": "code",
   "execution_count": null,
   "metadata": {},
   "outputs": [],
   "source": []
  },
  {
   "cell_type": "code",
   "execution_count": null,
   "metadata": {},
   "outputs": [],
   "source": []
  },
  {
   "cell_type": "code",
   "execution_count": null,
   "metadata": {},
   "outputs": [],
   "source": []
  },
  {
   "cell_type": "markdown",
   "metadata": {},
   "source": [
    "Plot the viable cell density, glucose, l-glutamine, lactate, and ammonia concentrations of the fed-batch compared to the batch reactor below. "
   ]
  },
  {
   "cell_type": "code",
   "execution_count": null,
   "metadata": {},
   "outputs": [],
   "source": []
  },
  {
   "cell_type": "code",
   "execution_count": null,
   "metadata": {},
   "outputs": [],
   "source": []
  },
  {
   "cell_type": "code",
   "execution_count": null,
   "metadata": {},
   "outputs": [],
   "source": []
  },
  {
   "cell_type": "code",
   "execution_count": null,
   "metadata": {},
   "outputs": [],
   "source": []
  },
  {
   "cell_type": "markdown",
   "metadata": {},
   "source": [
    "How many cells do you need to innoculate a 1000 L reactor? After how many days can you inoculate the 1000 L reactor?"
   ]
  },
  {
   "cell_type": "code",
   "execution_count": null,
   "metadata": {},
   "outputs": [],
   "source": []
  },
  {
   "cell_type": "markdown",
   "metadata": {},
   "source": [
    "Export this notebook as a pdf, or take screen shots and put into a word document to hand in your work in the drop box."
   ]
  }
 ],
 "metadata": {
  "kernelspec": {
   "display_name": "Python 3 (ipykernel)",
   "language": "python",
   "name": "python3"
  },
  "language_info": {
   "codemirror_mode": {
    "name": "ipython",
    "version": 3
   },
   "file_extension": ".py",
   "mimetype": "text/x-python",
   "name": "python",
   "nbconvert_exporter": "python",
   "pygments_lexer": "ipython3",
   "version": "3.12.2"
  },
  "toc-autonumbering": false,
  "toc-showcode": false
 },
 "nbformat": 4,
 "nbformat_minor": 4
}
