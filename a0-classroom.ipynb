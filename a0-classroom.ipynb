{
  "cells": [
    {
      "cell_type": "markdown",
      "metadata": {
        "id": "5rhhuOuwQCmx"
      },
      "source": [
        "Author: Iremide Aina"
      ]
    },
    {
      "cell_type": "markdown",
      "metadata": {
        "id": "_uFrnWU5QCm1"
      },
      "source": [
        "On your local computer"
      ]
    },
    {
      "cell_type": "code",
      "execution_count": null,
      "metadata": {
        "id": "tM5kj9yWQCm2",
        "outputId": "92be9030-8426-4033-b02f-9024fbb8cebc"
      },
      "outputs": [
        {
          "name": "stdout",
          "output_type": "stream",
          "text": [
            "OS information: Windows-10-10.0.26100-SP0\n",
            "Python version: 3.11.11 | packaged by Anaconda, Inc. | (main, Dec 11 2024, 16:34:19) [MSC v.1929 64 bit (AMD64)]\n",
            "PyTorch version: 2.5.1+cpu\n",
            "Fastai version: 2.7.18\n",
            "Fastbook version: 0.0.29\n",
            "OpenCV version: 4.11.0\n"
          ]
        }
      ],
      "source": [
        "# On local machine with endg411 activated: paste code to display versions here and run cell\n",
        "import platform\n",
        "print(\"OS information:\", platform.platform())\n",
        "\n",
        "import sys\n",
        "print(\"Python version:\", sys.version)\n",
        "\n",
        "import torch\n",
        "print(\"PyTorch version:\", torch.__version__)\n",
        "\n",
        "import fastai\n",
        "print(\"Fastai version:\", fastai.__version__)\n",
        "\n",
        "import fastbook\n",
        "print(\"Fastbook version:\", fastbook.__version__)\n",
        "\n",
        "import cv2\n",
        "print(\"OpenCV version:\", cv2.__version__)\n"
      ]
    },
    {
      "cell_type": "code",
      "execution_count": null,
      "metadata": {
        "id": "6Z0fsbltQCm5",
        "outputId": "6fef7e3c-1251-4762-b7a3-dc1d9765f295"
      },
      "outputs": [
        {
          "name": "stdout",
          "output_type": "stream",
          "text": [
            "Python version: 3.11.11 | packaged by Anaconda, Inc. | (main, Dec 11 2024, 16:34:19) [MSC v.1929 64 bit (AMD64)]\n",
            "pandas version: 2.2.3\n",
            "matplotlib version: 3.10.0\n",
            "NumPy version: 2.2.2\n",
            "Jupyter lab version: 4.3.4\n",
            "scikit-learn version: 1.6.1\n",
            "PyTorch version: 2.5.1+cpu\n"
          ]
        },
        {
          "ename": "ModuleNotFoundError",
          "evalue": "No module named 'ISLP'",
          "output_type": "error",
          "traceback": [
            "\u001b[1;31m---------------------------------------------------------------------------\u001b[0m",
            "\u001b[1;31mModuleNotFoundError\u001b[0m                       Traceback (most recent call last)",
            "Cell \u001b[1;32mIn[2], line 23\u001b[0m\n\u001b[0;32m     20\u001b[0m \u001b[38;5;28;01mimport\u001b[39;00m\u001b[38;5;250m \u001b[39m\u001b[38;5;21;01mtorch\u001b[39;00m\n\u001b[0;32m     21\u001b[0m \u001b[38;5;28mprint\u001b[39m(\u001b[38;5;124m\"\u001b[39m\u001b[38;5;124mPyTorch version:\u001b[39m\u001b[38;5;124m\"\u001b[39m, torch\u001b[38;5;241m.\u001b[39m__version__)\n\u001b[1;32m---> 23\u001b[0m \u001b[38;5;28;01mimport\u001b[39;00m\u001b[38;5;250m \u001b[39m\u001b[38;5;21;01mISLP\u001b[39;00m\n\u001b[0;32m     24\u001b[0m \u001b[38;5;28mprint\u001b[39m(\u001b[38;5;124m\"\u001b[39m\u001b[38;5;124mISLP version:\u001b[39m\u001b[38;5;124m\"\u001b[39m, ISLP\u001b[38;5;241m.\u001b[39m__version__)\n",
            "\u001b[1;31mModuleNotFoundError\u001b[0m: No module named 'ISLP'"
          ]
        }
      ],
      "source": [
        "# On local machine with islp activated: paste code to display versions here and run cell\n",
        "import sys\n",
        "print(\"Python version:\", sys.version)\n",
        "\n",
        "import pandas as pd\n",
        "print(\"pandas version:\", pd.__version__)\n",
        "\n",
        "import matplotlib\n",
        "print(\"matplotlib version:\", matplotlib.__version__)\n",
        "\n",
        "import numpy as np\n",
        "print(\"NumPy version:\", np.__version__)\n",
        "\n",
        "import jupyterlab\n",
        "print(\"Jupyter lab version:\", jupyterlab.__version__)\n",
        "\n",
        "import sklearn\n",
        "print(\"scikit-learn version:\", sklearn.__version__)\n",
        "\n",
        "import torch\n",
        "print(\"PyTorch version:\", torch.__version__)\n",
        "\n",
        "import ISLP\n",
        "print(\"ISLP version:\", ISLP.__version__)"
      ]
    },
    {
      "cell_type": "markdown",
      "metadata": {
        "id": "tiJTh3GsQCm5"
      },
      "source": [
        "On google colab"
      ]
    },
    {
      "cell_type": "code",
      "execution_count": 1,
      "metadata": {
        "id": "XysBvGCRQCm5",
        "outputId": "eb2cb8b9-27dc-4169-ecf0-c2c1ebd6ca74",
        "colab": {
          "base_uri": "https://localhost:8080/"
        }
      },
      "outputs": [
        {
          "output_type": "stream",
          "name": "stdout",
          "text": [
            "\u001b[?25l   \u001b[90m━━━━━━━━━━━━━━━━━━━━━━━━━━━━━━━━━━━━━━━━\u001b[0m \u001b[32m0.0/719.8 kB\u001b[0m \u001b[31m?\u001b[0m eta \u001b[36m-:--:--\u001b[0m\r\u001b[2K   \u001b[91m━━━━━━━━━━━━━━━━━━━━━━━━━━━\u001b[0m\u001b[91m╸\u001b[0m\u001b[90m━━━━━━━━━━━━\u001b[0m \u001b[32m501.8/719.8 kB\u001b[0m \u001b[31m14.5 MB/s\u001b[0m eta \u001b[36m0:00:01\u001b[0m\r\u001b[2K   \u001b[91m━━━━━━━━━━━━━━━━━━━━━━━━━━━━━━━━━━━━━━━\u001b[0m\u001b[91m╸\u001b[0m \u001b[32m716.8/719.8 kB\u001b[0m \u001b[31m17.3 MB/s\u001b[0m eta \u001b[36m0:00:01\u001b[0m\r\u001b[2K   \u001b[90m━━━━━━━━━━━━━━━━━━━━━━━━━━━━━━━━━━━━━━━━\u001b[0m \u001b[32m719.8/719.8 kB\u001b[0m \u001b[31m6.5 MB/s\u001b[0m eta \u001b[36m0:00:00\u001b[0m\n",
            "\u001b[?25h\u001b[?25l   \u001b[90m━━━━━━━━━━━━━━━━━━━━━━━━━━━━━━━━━━━━━━━━\u001b[0m \u001b[32m0.0/480.6 kB\u001b[0m \u001b[31m?\u001b[0m eta \u001b[36m-:--:--\u001b[0m\r\u001b[2K   \u001b[90m━━━━━━━━━━━━━━━━━━━━━━━━━━━━━━━━━━━━━━━━\u001b[0m \u001b[32m480.6/480.6 kB\u001b[0m \u001b[31m25.4 MB/s\u001b[0m eta \u001b[36m0:00:00\u001b[0m\n",
            "\u001b[?25h\u001b[?25l   \u001b[90m━━━━━━━━━━━━━━━━━━━━━━━━━━━━━━━━━━━━━━━━\u001b[0m \u001b[32m0.0/116.3 kB\u001b[0m \u001b[31m?\u001b[0m eta \u001b[36m-:--:--\u001b[0m\r\u001b[2K   \u001b[90m━━━━━━━━━━━━━━━━━━━━━━━━━━━━━━━━━━━━━━━━\u001b[0m \u001b[32m116.3/116.3 kB\u001b[0m \u001b[31m7.3 MB/s\u001b[0m eta \u001b[36m0:00:00\u001b[0m\n",
            "\u001b[2K   \u001b[90m━━━━━━━━━━━━━━━━━━━━━━━━━━━━━━━━━━━━━━━━\u001b[0m \u001b[32m179.3/179.3 kB\u001b[0m \u001b[31m11.6 MB/s\u001b[0m eta \u001b[36m0:00:00\u001b[0m\n",
            "\u001b[2K   \u001b[90m━━━━━━━━━━━━━━━━━━━━━━━━━━━━━━━━━━━━━━━━\u001b[0m \u001b[32m143.5/143.5 kB\u001b[0m \u001b[31m9.7 MB/s\u001b[0m eta \u001b[36m0:00:00\u001b[0m\n",
            "\u001b[2K   \u001b[90m━━━━━━━━━━━━━━━━━━━━━━━━━━━━━━━━━━━━━━━━\u001b[0m \u001b[32m194.8/194.8 kB\u001b[0m \u001b[31m9.9 MB/s\u001b[0m eta \u001b[36m0:00:00\u001b[0m\n",
            "\u001b[2K   \u001b[90m━━━━━━━━━━━━━━━━━━━━━━━━━━━━━━━━━━━━━━━━\u001b[0m \u001b[32m1.6/1.6 MB\u001b[0m \u001b[31m45.3 MB/s\u001b[0m eta \u001b[36m0:00:00\u001b[0m\n",
            "\u001b[?25h\u001b[31mERROR: pip's dependency resolver does not currently take into account all the packages that are installed. This behaviour is the source of the following dependency conflicts.\n",
            "gcsfs 2024.10.0 requires fsspec==2024.10.0, but you have fsspec 2024.9.0 which is incompatible.\u001b[0m\u001b[31m\n",
            "\u001b[0m"
          ]
        }
      ],
      "source": [
        "# On colab: Install fastbook, fastai, and dependencies\n",
        "!pip install -Uqq fastbook"
      ]
    },
    {
      "cell_type": "code",
      "execution_count": null,
      "metadata": {
        "id": "Q4vKG9VZQCm6"
      },
      "outputs": [],
      "source": [
        "# On colab: paste code to display versions here and run cell\n",
        "import platform\n",
        "print(\"OS information:\", platform.platform())\n",
        "\n",
        "import sys\n",
        "print(\"Python version:\", sys.version)\n",
        "\n",
        "import torch\n",
        "print(\"PyTorch version:\", torch.__version__)\n",
        "\n",
        "import fastai\n",
        "print(\"Fastai version:\", fastai.__version__)\n",
        "\n",
        "import fastbook\n",
        "print(\"Fastbook version:\", fastbook.__version__)"
      ]
    },
    {
      "cell_type": "markdown",
      "metadata": {
        "id": "UcsJ0wTNQCm6"
      },
      "source": [
        "## Reflection\n",
        "Include:\n",
        "- Something you are excited about learning in this course.\n",
        "- Potential difficulties you anticipate."
      ]
    },
    {
      "cell_type": "markdown",
      "metadata": {
        "id": "2AJXmRXCQCm6"
      },
      "source": [
        "*YOUR ANSWER HERE*"
      ]
    }
  ],
  "metadata": {
    "kernelspec": {
      "display_name": "endg411",
      "language": "python",
      "name": "python3"
    },
    "language_info": {
      "codemirror_mode": {
        "name": "ipython",
        "version": 3
      },
      "file_extension": ".py",
      "mimetype": "text/x-python",
      "name": "python",
      "nbconvert_exporter": "python",
      "pygments_lexer": "ipython3",
      "version": "3.11.11"
    },
    "colab": {
      "provenance": []
    }
  },
  "nbformat": 4,
  "nbformat_minor": 0
}